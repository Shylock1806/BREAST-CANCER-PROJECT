{
 "cells": [
  {
   "cell_type": "markdown",
   "metadata": {},
   "source": [
    "# BREAST CANCER PROJECT 2"
   ]
  },
  {
   "cell_type": "code",
   "execution_count": 2,
   "metadata": {},
   "outputs": [
    {
     "data": {
      "text/html": [
       "<div>\n",
       "<style scoped>\n",
       "    .dataframe tbody tr th:only-of-type {\n",
       "        vertical-align: middle;\n",
       "    }\n",
       "\n",
       "    .dataframe tbody tr th {\n",
       "        vertical-align: top;\n",
       "    }\n",
       "\n",
       "    .dataframe thead th {\n",
       "        text-align: right;\n",
       "    }\n",
       "</style>\n",
       "<table border=\"1\" class=\"dataframe\">\n",
       "  <thead>\n",
       "    <tr style=\"text-align: right;\">\n",
       "      <th></th>\n",
       "      <th>0</th>\n",
       "      <th>1</th>\n",
       "      <th>2</th>\n",
       "      <th>3</th>\n",
       "      <th>4</th>\n",
       "      <th>5</th>\n",
       "      <th>6</th>\n",
       "      <th>7</th>\n",
       "      <th>8</th>\n",
       "      <th>9</th>\n",
       "      <th>...</th>\n",
       "      <th>25</th>\n",
       "      <th>26</th>\n",
       "      <th>27</th>\n",
       "      <th>28</th>\n",
       "      <th>29</th>\n",
       "      <th>30</th>\n",
       "      <th>31</th>\n",
       "      <th>32</th>\n",
       "      <th>33</th>\n",
       "      <th>34</th>\n",
       "    </tr>\n",
       "  </thead>\n",
       "  <tbody>\n",
       "    <tr>\n",
       "      <th>0</th>\n",
       "      <td>119513</td>\n",
       "      <td>N</td>\n",
       "      <td>31</td>\n",
       "      <td>18.02</td>\n",
       "      <td>27.60</td>\n",
       "      <td>117.50</td>\n",
       "      <td>1013.0</td>\n",
       "      <td>0.09489</td>\n",
       "      <td>0.10360</td>\n",
       "      <td>0.10860</td>\n",
       "      <td>...</td>\n",
       "      <td>139.70</td>\n",
       "      <td>1436.0</td>\n",
       "      <td>0.11950</td>\n",
       "      <td>0.1926</td>\n",
       "      <td>0.3140</td>\n",
       "      <td>0.11700</td>\n",
       "      <td>0.2677</td>\n",
       "      <td>0.08113</td>\n",
       "      <td>5.0</td>\n",
       "      <td>5</td>\n",
       "    </tr>\n",
       "    <tr>\n",
       "      <th>1</th>\n",
       "      <td>8423</td>\n",
       "      <td>N</td>\n",
       "      <td>61</td>\n",
       "      <td>17.99</td>\n",
       "      <td>10.38</td>\n",
       "      <td>122.80</td>\n",
       "      <td>1001.0</td>\n",
       "      <td>0.11840</td>\n",
       "      <td>0.27760</td>\n",
       "      <td>0.30010</td>\n",
       "      <td>...</td>\n",
       "      <td>184.60</td>\n",
       "      <td>2019.0</td>\n",
       "      <td>0.16220</td>\n",
       "      <td>0.6656</td>\n",
       "      <td>0.7119</td>\n",
       "      <td>0.26540</td>\n",
       "      <td>0.4601</td>\n",
       "      <td>0.11890</td>\n",
       "      <td>3.0</td>\n",
       "      <td>2</td>\n",
       "    </tr>\n",
       "    <tr>\n",
       "      <th>2</th>\n",
       "      <td>842517</td>\n",
       "      <td>N</td>\n",
       "      <td>116</td>\n",
       "      <td>21.37</td>\n",
       "      <td>17.44</td>\n",
       "      <td>137.50</td>\n",
       "      <td>1373.0</td>\n",
       "      <td>0.08836</td>\n",
       "      <td>0.11890</td>\n",
       "      <td>0.12550</td>\n",
       "      <td>...</td>\n",
       "      <td>159.10</td>\n",
       "      <td>1949.0</td>\n",
       "      <td>0.11880</td>\n",
       "      <td>0.3449</td>\n",
       "      <td>0.3414</td>\n",
       "      <td>0.20320</td>\n",
       "      <td>0.4334</td>\n",
       "      <td>0.09067</td>\n",
       "      <td>2.5</td>\n",
       "      <td>0</td>\n",
       "    </tr>\n",
       "    <tr>\n",
       "      <th>3</th>\n",
       "      <td>843483</td>\n",
       "      <td>N</td>\n",
       "      <td>123</td>\n",
       "      <td>11.42</td>\n",
       "      <td>20.38</td>\n",
       "      <td>77.58</td>\n",
       "      <td>386.1</td>\n",
       "      <td>0.14250</td>\n",
       "      <td>0.28390</td>\n",
       "      <td>0.24140</td>\n",
       "      <td>...</td>\n",
       "      <td>98.87</td>\n",
       "      <td>567.7</td>\n",
       "      <td>0.20980</td>\n",
       "      <td>0.8663</td>\n",
       "      <td>0.6869</td>\n",
       "      <td>0.25750</td>\n",
       "      <td>0.6638</td>\n",
       "      <td>0.17300</td>\n",
       "      <td>2.0</td>\n",
       "      <td>0</td>\n",
       "    </tr>\n",
       "    <tr>\n",
       "      <th>4</th>\n",
       "      <td>843584</td>\n",
       "      <td>R</td>\n",
       "      <td>27</td>\n",
       "      <td>20.29</td>\n",
       "      <td>14.34</td>\n",
       "      <td>135.10</td>\n",
       "      <td>1297.0</td>\n",
       "      <td>0.10030</td>\n",
       "      <td>0.13280</td>\n",
       "      <td>0.19800</td>\n",
       "      <td>...</td>\n",
       "      <td>152.20</td>\n",
       "      <td>1575.0</td>\n",
       "      <td>0.13740</td>\n",
       "      <td>0.2050</td>\n",
       "      <td>0.4000</td>\n",
       "      <td>0.16250</td>\n",
       "      <td>0.2364</td>\n",
       "      <td>0.07678</td>\n",
       "      <td>3.5</td>\n",
       "      <td>0</td>\n",
       "    </tr>\n",
       "    <tr>\n",
       "      <th>...</th>\n",
       "      <td>...</td>\n",
       "      <td>...</td>\n",
       "      <td>...</td>\n",
       "      <td>...</td>\n",
       "      <td>...</td>\n",
       "      <td>...</td>\n",
       "      <td>...</td>\n",
       "      <td>...</td>\n",
       "      <td>...</td>\n",
       "      <td>...</td>\n",
       "      <td>...</td>\n",
       "      <td>...</td>\n",
       "      <td>...</td>\n",
       "      <td>...</td>\n",
       "      <td>...</td>\n",
       "      <td>...</td>\n",
       "      <td>...</td>\n",
       "      <td>...</td>\n",
       "      <td>...</td>\n",
       "      <td>...</td>\n",
       "      <td>...</td>\n",
       "    </tr>\n",
       "    <tr>\n",
       "      <th>193</th>\n",
       "      <td>942640</td>\n",
       "      <td>N</td>\n",
       "      <td>10</td>\n",
       "      <td>22.52</td>\n",
       "      <td>21.92</td>\n",
       "      <td>146.90</td>\n",
       "      <td>1597.0</td>\n",
       "      <td>0.07592</td>\n",
       "      <td>0.09162</td>\n",
       "      <td>0.06862</td>\n",
       "      <td>...</td>\n",
       "      <td>162.10</td>\n",
       "      <td>1902.0</td>\n",
       "      <td>0.08191</td>\n",
       "      <td>0.1319</td>\n",
       "      <td>0.1056</td>\n",
       "      <td>0.09378</td>\n",
       "      <td>0.2061</td>\n",
       "      <td>0.05788</td>\n",
       "      <td>6.0</td>\n",
       "      <td>2</td>\n",
       "    </tr>\n",
       "    <tr>\n",
       "      <th>194</th>\n",
       "      <td>943471</td>\n",
       "      <td>N</td>\n",
       "      <td>8</td>\n",
       "      <td>15.44</td>\n",
       "      <td>31.18</td>\n",
       "      <td>101.00</td>\n",
       "      <td>740.4</td>\n",
       "      <td>0.09399</td>\n",
       "      <td>0.10620</td>\n",
       "      <td>0.13750</td>\n",
       "      <td>...</td>\n",
       "      <td>112.60</td>\n",
       "      <td>929.0</td>\n",
       "      <td>0.12720</td>\n",
       "      <td>0.2362</td>\n",
       "      <td>0.2975</td>\n",
       "      <td>0.12860</td>\n",
       "      <td>0.2914</td>\n",
       "      <td>0.08024</td>\n",
       "      <td>1.5</td>\n",
       "      <td>0</td>\n",
       "    </tr>\n",
       "    <tr>\n",
       "      <th>195</th>\n",
       "      <td>94547</td>\n",
       "      <td>N</td>\n",
       "      <td>12</td>\n",
       "      <td>17.17</td>\n",
       "      <td>29.19</td>\n",
       "      <td>110.00</td>\n",
       "      <td>915.3</td>\n",
       "      <td>0.08952</td>\n",
       "      <td>0.06655</td>\n",
       "      <td>0.06583</td>\n",
       "      <td>...</td>\n",
       "      <td>132.50</td>\n",
       "      <td>1295.0</td>\n",
       "      <td>0.12610</td>\n",
       "      <td>0.1572</td>\n",
       "      <td>0.2141</td>\n",
       "      <td>0.09520</td>\n",
       "      <td>0.3362</td>\n",
       "      <td>0.06033</td>\n",
       "      <td>3.7</td>\n",
       "      <td>0</td>\n",
       "    </tr>\n",
       "    <tr>\n",
       "      <th>196</th>\n",
       "      <td>947204</td>\n",
       "      <td>R</td>\n",
       "      <td>3</td>\n",
       "      <td>21.42</td>\n",
       "      <td>22.84</td>\n",
       "      <td>145.00</td>\n",
       "      <td>1440.0</td>\n",
       "      <td>0.10700</td>\n",
       "      <td>0.19390</td>\n",
       "      <td>0.23800</td>\n",
       "      <td>...</td>\n",
       "      <td>198.30</td>\n",
       "      <td>2375.0</td>\n",
       "      <td>0.14980</td>\n",
       "      <td>0.4379</td>\n",
       "      <td>0.5411</td>\n",
       "      <td>0.22150</td>\n",
       "      <td>0.2832</td>\n",
       "      <td>0.08981</td>\n",
       "      <td>3.0</td>\n",
       "      <td>?</td>\n",
       "    </tr>\n",
       "    <tr>\n",
       "      <th>197</th>\n",
       "      <td>947489</td>\n",
       "      <td>N</td>\n",
       "      <td>6</td>\n",
       "      <td>16.70</td>\n",
       "      <td>28.13</td>\n",
       "      <td>110.30</td>\n",
       "      <td>885.4</td>\n",
       "      <td>0.08896</td>\n",
       "      <td>0.11310</td>\n",
       "      <td>0.10120</td>\n",
       "      <td>...</td>\n",
       "      <td>128.80</td>\n",
       "      <td>1213.0</td>\n",
       "      <td>0.13300</td>\n",
       "      <td>0.2808</td>\n",
       "      <td>0.3455</td>\n",
       "      <td>0.13170</td>\n",
       "      <td>0.3035</td>\n",
       "      <td>0.08036</td>\n",
       "      <td>3.5</td>\n",
       "      <td>0</td>\n",
       "    </tr>\n",
       "  </tbody>\n",
       "</table>\n",
       "<p>198 rows × 35 columns</p>\n",
       "</div>"
      ],
      "text/plain": [
       "         0  1    2      3      4       5       6        7        8        9   \\\n",
       "0    119513  N   31  18.02  27.60  117.50  1013.0  0.09489  0.10360  0.10860   \n",
       "1      8423  N   61  17.99  10.38  122.80  1001.0  0.11840  0.27760  0.30010   \n",
       "2    842517  N  116  21.37  17.44  137.50  1373.0  0.08836  0.11890  0.12550   \n",
       "3    843483  N  123  11.42  20.38   77.58   386.1  0.14250  0.28390  0.24140   \n",
       "4    843584  R   27  20.29  14.34  135.10  1297.0  0.10030  0.13280  0.19800   \n",
       "..      ... ..  ...    ...    ...     ...     ...      ...      ...      ...   \n",
       "193  942640  N   10  22.52  21.92  146.90  1597.0  0.07592  0.09162  0.06862   \n",
       "194  943471  N    8  15.44  31.18  101.00   740.4  0.09399  0.10620  0.13750   \n",
       "195   94547  N   12  17.17  29.19  110.00   915.3  0.08952  0.06655  0.06583   \n",
       "196  947204  R    3  21.42  22.84  145.00  1440.0  0.10700  0.19390  0.23800   \n",
       "197  947489  N    6  16.70  28.13  110.30   885.4  0.08896  0.11310  0.10120   \n",
       "\n",
       "     ...      25      26       27      28      29       30      31       32  \\\n",
       "0    ...  139.70  1436.0  0.11950  0.1926  0.3140  0.11700  0.2677  0.08113   \n",
       "1    ...  184.60  2019.0  0.16220  0.6656  0.7119  0.26540  0.4601  0.11890   \n",
       "2    ...  159.10  1949.0  0.11880  0.3449  0.3414  0.20320  0.4334  0.09067   \n",
       "3    ...   98.87   567.7  0.20980  0.8663  0.6869  0.25750  0.6638  0.17300   \n",
       "4    ...  152.20  1575.0  0.13740  0.2050  0.4000  0.16250  0.2364  0.07678   \n",
       "..   ...     ...     ...      ...     ...     ...      ...     ...      ...   \n",
       "193  ...  162.10  1902.0  0.08191  0.1319  0.1056  0.09378  0.2061  0.05788   \n",
       "194  ...  112.60   929.0  0.12720  0.2362  0.2975  0.12860  0.2914  0.08024   \n",
       "195  ...  132.50  1295.0  0.12610  0.1572  0.2141  0.09520  0.3362  0.06033   \n",
       "196  ...  198.30  2375.0  0.14980  0.4379  0.5411  0.22150  0.2832  0.08981   \n",
       "197  ...  128.80  1213.0  0.13300  0.2808  0.3455  0.13170  0.3035  0.08036   \n",
       "\n",
       "      33  34  \n",
       "0    5.0   5  \n",
       "1    3.0   2  \n",
       "2    2.5   0  \n",
       "3    2.0   0  \n",
       "4    3.5   0  \n",
       "..   ...  ..  \n",
       "193  6.0   2  \n",
       "194  1.5   0  \n",
       "195  3.7   0  \n",
       "196  3.0   ?  \n",
       "197  3.5   0  \n",
       "\n",
       "[198 rows x 35 columns]"
      ]
     },
     "execution_count": 2,
     "metadata": {},
     "output_type": "execute_result"
    }
   ],
   "source": [
    "import pandas as pd\n",
    "df = pd.read_csv('BCP2.csv',header=None)\n",
    "df"
   ]
  },
  {
   "cell_type": "code",
   "execution_count": 3,
   "metadata": {},
   "outputs": [
    {
     "data": {
      "text/plain": [
       "<bound method DataFrame.info of          0  1    2      3      4       5       6        7        8        9   \\\n",
       "0    119513  N   31  18.02  27.60  117.50  1013.0  0.09489  0.10360  0.10860   \n",
       "1      8423  N   61  17.99  10.38  122.80  1001.0  0.11840  0.27760  0.30010   \n",
       "2    842517  N  116  21.37  17.44  137.50  1373.0  0.08836  0.11890  0.12550   \n",
       "3    843483  N  123  11.42  20.38   77.58   386.1  0.14250  0.28390  0.24140   \n",
       "4    843584  R   27  20.29  14.34  135.10  1297.0  0.10030  0.13280  0.19800   \n",
       "..      ... ..  ...    ...    ...     ...     ...      ...      ...      ...   \n",
       "193  942640  N   10  22.52  21.92  146.90  1597.0  0.07592  0.09162  0.06862   \n",
       "194  943471  N    8  15.44  31.18  101.00   740.4  0.09399  0.10620  0.13750   \n",
       "195   94547  N   12  17.17  29.19  110.00   915.3  0.08952  0.06655  0.06583   \n",
       "196  947204  R    3  21.42  22.84  145.00  1440.0  0.10700  0.19390  0.23800   \n",
       "197  947489  N    6  16.70  28.13  110.30   885.4  0.08896  0.11310  0.10120   \n",
       "\n",
       "     ...      25      26       27      28      29       30      31       32  \\\n",
       "0    ...  139.70  1436.0  0.11950  0.1926  0.3140  0.11700  0.2677  0.08113   \n",
       "1    ...  184.60  2019.0  0.16220  0.6656  0.7119  0.26540  0.4601  0.11890   \n",
       "2    ...  159.10  1949.0  0.11880  0.3449  0.3414  0.20320  0.4334  0.09067   \n",
       "3    ...   98.87   567.7  0.20980  0.8663  0.6869  0.25750  0.6638  0.17300   \n",
       "4    ...  152.20  1575.0  0.13740  0.2050  0.4000  0.16250  0.2364  0.07678   \n",
       "..   ...     ...     ...      ...     ...     ...      ...     ...      ...   \n",
       "193  ...  162.10  1902.0  0.08191  0.1319  0.1056  0.09378  0.2061  0.05788   \n",
       "194  ...  112.60   929.0  0.12720  0.2362  0.2975  0.12860  0.2914  0.08024   \n",
       "195  ...  132.50  1295.0  0.12610  0.1572  0.2141  0.09520  0.3362  0.06033   \n",
       "196  ...  198.30  2375.0  0.14980  0.4379  0.5411  0.22150  0.2832  0.08981   \n",
       "197  ...  128.80  1213.0  0.13300  0.2808  0.3455  0.13170  0.3035  0.08036   \n",
       "\n",
       "      33  34  \n",
       "0    5.0   5  \n",
       "1    3.0   2  \n",
       "2    2.5   0  \n",
       "3    2.0   0  \n",
       "4    3.5   0  \n",
       "..   ...  ..  \n",
       "193  6.0   2  \n",
       "194  1.5   0  \n",
       "195  3.7   0  \n",
       "196  3.0   ?  \n",
       "197  3.5   0  \n",
       "\n",
       "[198 rows x 35 columns]>"
      ]
     },
     "execution_count": 3,
     "metadata": {},
     "output_type": "execute_result"
    }
   ],
   "source": [
    "df.info"
   ]
  },
  {
   "cell_type": "code",
   "execution_count": 4,
   "metadata": {},
   "outputs": [
    {
     "data": {
      "text/plain": [
       "N    151\n",
       "R     47\n",
       "Name: 1, dtype: int64"
      ]
     },
     "execution_count": 4,
     "metadata": {},
     "output_type": "execute_result"
    }
   ],
   "source": [
    "df[1].value_counts()"
   ]
  },
  {
   "cell_type": "code",
   "execution_count": 5,
   "metadata": {},
   "outputs": [
    {
     "name": "stdout",
     "output_type": "stream",
     "text": [
      "    1    2      3      4       5       6        7        8        9        10  \\\n",
      "0    N   31  18.02  27.60  117.50  1013.0  0.09489  0.10360  0.10860  0.07055   \n",
      "1    N   61  17.99  10.38  122.80  1001.0  0.11840  0.27760  0.30010  0.14710   \n",
      "2    N  116  21.37  17.44  137.50  1373.0  0.08836  0.11890  0.12550  0.08180   \n",
      "3    N  123  11.42  20.38   77.58   386.1  0.14250  0.28390  0.24140  0.10520   \n",
      "4    R   27  20.29  14.34  135.10  1297.0  0.10030  0.13280  0.19800  0.10430   \n",
      "..  ..  ...    ...    ...     ...     ...      ...      ...      ...      ...   \n",
      "192  N    3  14.72  25.26   99.28   657.5  0.11740  0.21120  0.17290  0.09465   \n",
      "193  N   10  22.52  21.92  146.90  1597.0  0.07592  0.09162  0.06862  0.06367   \n",
      "194  N    8  15.44  31.18  101.00   740.4  0.09399  0.10620  0.13750  0.06500   \n",
      "195  N   12  17.17  29.19  110.00   915.3  0.08952  0.06655  0.06583  0.05068   \n",
      "197  N    6  16.70  28.13  110.30   885.4  0.08896  0.11310  0.10120  0.04989   \n",
      "\n",
      "     ...      25      26       27      28      29       30      31       32  \\\n",
      "0    ...  139.70  1436.0  0.11950  0.1926  0.3140  0.11700  0.2677  0.08113   \n",
      "1    ...  184.60  2019.0  0.16220  0.6656  0.7119  0.26540  0.4601  0.11890   \n",
      "2    ...  159.10  1949.0  0.11880  0.3449  0.3414  0.20320  0.4334  0.09067   \n",
      "3    ...   98.87   567.7  0.20980  0.8663  0.6869  0.25750  0.6638  0.17300   \n",
      "4    ...  152.20  1575.0  0.13740  0.2050  0.4000  0.16250  0.2364  0.07678   \n",
      "..   ...     ...     ...      ...     ...     ...      ...     ...      ...   \n",
      "192  ...  111.60   814.8  0.14640  0.5352  0.5655  0.19740  0.3778  0.11320   \n",
      "193  ...  162.10  1902.0  0.08191  0.1319  0.1056  0.09378  0.2061  0.05788   \n",
      "194  ...  112.60   929.0  0.12720  0.2362  0.2975  0.12860  0.2914  0.08024   \n",
      "195  ...  132.50  1295.0  0.12610  0.1572  0.2141  0.09520  0.3362  0.06033   \n",
      "197  ...  128.80  1213.0  0.13300  0.2808  0.3455  0.13170  0.3035  0.08036   \n",
      "\n",
      "      33  34  \n",
      "0    5.0   5  \n",
      "1    3.0   2  \n",
      "2    2.5   0  \n",
      "3    2.0   0  \n",
      "4    3.5   0  \n",
      "..   ...  ..  \n",
      "192  1.7  21  \n",
      "193  6.0   2  \n",
      "194  1.5   0  \n",
      "195  3.7   0  \n",
      "197  3.5   0  \n",
      "\n",
      "[194 rows x 34 columns]\n"
     ]
    }
   ],
   "source": [
    "df = df.drop(0,axis=1)\n",
    "df = df.drop(196)\n",
    "df = df.drop(85)\n",
    "df = df.drop(28)\n",
    "df = df.drop(6)\n",
    "print(df)"
   ]
  },
  {
   "cell_type": "code",
   "execution_count": 6,
   "metadata": {},
   "outputs": [
    {
     "data": {
      "text/plain": [
       "<bound method DataFrame.info of     1    2      3      4       5       6        7        8        9        10  \\\n",
       "0    N   31  18.02  27.60  117.50  1013.0  0.09489  0.10360  0.10860  0.07055   \n",
       "1    N   61  17.99  10.38  122.80  1001.0  0.11840  0.27760  0.30010  0.14710   \n",
       "2    N  116  21.37  17.44  137.50  1373.0  0.08836  0.11890  0.12550  0.08180   \n",
       "3    N  123  11.42  20.38   77.58   386.1  0.14250  0.28390  0.24140  0.10520   \n",
       "4    R   27  20.29  14.34  135.10  1297.0  0.10030  0.13280  0.19800  0.10430   \n",
       "..  ..  ...    ...    ...     ...     ...      ...      ...      ...      ...   \n",
       "192  N    3  14.72  25.26   99.28   657.5  0.11740  0.21120  0.17290  0.09465   \n",
       "193  N   10  22.52  21.92  146.90  1597.0  0.07592  0.09162  0.06862  0.06367   \n",
       "194  N    8  15.44  31.18  101.00   740.4  0.09399  0.10620  0.13750  0.06500   \n",
       "195  N   12  17.17  29.19  110.00   915.3  0.08952  0.06655  0.06583  0.05068   \n",
       "197  N    6  16.70  28.13  110.30   885.4  0.08896  0.11310  0.10120  0.04989   \n",
       "\n",
       "     ...      25      26       27      28      29       30      31       32  \\\n",
       "0    ...  139.70  1436.0  0.11950  0.1926  0.3140  0.11700  0.2677  0.08113   \n",
       "1    ...  184.60  2019.0  0.16220  0.6656  0.7119  0.26540  0.4601  0.11890   \n",
       "2    ...  159.10  1949.0  0.11880  0.3449  0.3414  0.20320  0.4334  0.09067   \n",
       "3    ...   98.87   567.7  0.20980  0.8663  0.6869  0.25750  0.6638  0.17300   \n",
       "4    ...  152.20  1575.0  0.13740  0.2050  0.4000  0.16250  0.2364  0.07678   \n",
       "..   ...     ...     ...      ...     ...     ...      ...     ...      ...   \n",
       "192  ...  111.60   814.8  0.14640  0.5352  0.5655  0.19740  0.3778  0.11320   \n",
       "193  ...  162.10  1902.0  0.08191  0.1319  0.1056  0.09378  0.2061  0.05788   \n",
       "194  ...  112.60   929.0  0.12720  0.2362  0.2975  0.12860  0.2914  0.08024   \n",
       "195  ...  132.50  1295.0  0.12610  0.1572  0.2141  0.09520  0.3362  0.06033   \n",
       "197  ...  128.80  1213.0  0.13300  0.2808  0.3455  0.13170  0.3035  0.08036   \n",
       "\n",
       "      33  34  \n",
       "0    5.0   5  \n",
       "1    3.0   2  \n",
       "2    2.5   0  \n",
       "3    2.0   0  \n",
       "4    3.5   0  \n",
       "..   ...  ..  \n",
       "192  1.7  21  \n",
       "193  6.0   2  \n",
       "194  1.5   0  \n",
       "195  3.7   0  \n",
       "197  3.5   0  \n",
       "\n",
       "[194 rows x 34 columns]>"
      ]
     },
     "execution_count": 6,
     "metadata": {},
     "output_type": "execute_result"
    }
   ],
   "source": [
    "df.info"
   ]
  },
  {
   "cell_type": "code",
   "execution_count": 7,
   "metadata": {},
   "outputs": [
    {
     "data": {
      "text/plain": [
       "0    148\n",
       "1     46\n",
       "Name: 1, dtype: int64"
      ]
     },
     "execution_count": 7,
     "metadata": {},
     "output_type": "execute_result"
    }
   ],
   "source": [
    "dict = {'N':0,'R':1}\n",
    "df1 = df\n",
    "df1[1]=df[1].map(dict)\n",
    "df[1].value_counts()"
   ]
  },
  {
   "cell_type": "code",
   "execution_count": 8,
   "metadata": {},
   "outputs": [],
   "source": [
    "y = df1.iloc[:,:1]\n",
    "x = df1.iloc[:,1::]"
   ]
  },
  {
   "cell_type": "code",
   "execution_count": 9,
   "metadata": {},
   "outputs": [
    {
     "name": "stdout",
     "output_type": "stream",
     "text": [
      "(194, 33)\n",
      "(116, 33)\n",
      "(78, 33)\n"
     ]
    }
   ],
   "source": [
    "from sklearn.model_selection import train_test_split\n",
    "x_train,x_test,y_train,y_test=train_test_split(x,y,test_size=0.4,random_state=0)\n",
    "print(x.shape)\n",
    "print(x_train.shape)\n",
    "print(x_test.shape)"
   ]
  },
  {
   "cell_type": "code",
   "execution_count": 10,
   "metadata": {},
   "outputs": [
    {
     "name": "stdout",
     "output_type": "stream",
     "text": [
      "Training Acc= 0.25\n",
      "Testing Acc= 0.28205128205128205\n"
     ]
    },
    {
     "name": "stderr",
     "output_type": "stream",
     "text": [
      "C:\\Users\\HP\\anaconda3\\lib\\site-packages\\sklearn\\utils\\validation.py:72: DataConversionWarning: A column-vector y was passed when a 1d array was expected. Please change the shape of y to (n_samples, ), for example using ravel().\n",
      "  return f(**kwargs)\n"
     ]
    }
   ],
   "source": [
    "from sklearn.linear_model import Perceptron\n",
    "clf = Perceptron()\n",
    "clf.fit(x_train,y_train)\n",
    "y_train_pred=clf.predict(x_train)\n",
    "y_test_pred=clf.predict(x_test)\n",
    "from sklearn.metrics import accuracy_score\n",
    "train_acc=accuracy_score(y_train,y_train_pred)\n",
    "test_acc=accuracy_score(y_test,y_test_pred)\n",
    "print('Training Acc=',train_acc)\n",
    "print('Testing Acc=',test_acc)"
   ]
  },
  {
   "cell_type": "code",
   "execution_count": 11,
   "metadata": {},
   "outputs": [
    {
     "name": "stdout",
     "output_type": "stream",
     "text": [
      "Training Acc= 0.8275862068965517\n",
      "Testing Acc= 0.782051282051282\n"
     ]
    },
    {
     "name": "stderr",
     "output_type": "stream",
     "text": [
      "C:\\Users\\HP\\anaconda3\\lib\\site-packages\\sklearn\\utils\\validation.py:72: DataConversionWarning: A column-vector y was passed when a 1d array was expected. Please change the shape of y to (n_samples, ), for example using ravel().\n",
      "  return f(**kwargs)\n",
      "C:\\Users\\HP\\anaconda3\\lib\\site-packages\\sklearn\\linear_model\\_logistic.py:762: ConvergenceWarning: lbfgs failed to converge (status=1):\n",
      "STOP: TOTAL NO. of ITERATIONS REACHED LIMIT.\n",
      "\n",
      "Increase the number of iterations (max_iter) or scale the data as shown in:\n",
      "    https://scikit-learn.org/stable/modules/preprocessing.html\n",
      "Please also refer to the documentation for alternative solver options:\n",
      "    https://scikit-learn.org/stable/modules/linear_model.html#logistic-regression\n",
      "  n_iter_i = _check_optimize_result(\n"
     ]
    }
   ],
   "source": [
    "from sklearn.linear_model import LogisticRegression\n",
    "clf=LogisticRegression()\n",
    "clf.fit(x_train,y_train)\n",
    "y_train_pred=clf.predict(x_train)\n",
    "y_test_pred=clf.predict(x_test)\n",
    "from sklearn.metrics import accuracy_score\n",
    "train_acc=accuracy_score(y_train,y_train_pred)\n",
    "test_acc=accuracy_score(y_test,y_test_pred)\n",
    "print('Training Acc=',train_acc)\n",
    "print('Testing Acc=',test_acc)"
   ]
  },
  {
   "cell_type": "code",
   "execution_count": 12,
   "metadata": {},
   "outputs": [
    {
     "name": "stderr",
     "output_type": "stream",
     "text": [
      "C:\\Users\\HP\\anaconda3\\lib\\site-packages\\sklearn\\utils\\validation.py:72: DataConversionWarning: A column-vector y was passed when a 1d array was expected. Please change the shape of y to (n_samples, ), for example using ravel().\n",
      "  return f(**kwargs)\n"
     ]
    },
    {
     "name": "stdout",
     "output_type": "stream",
     "text": [
      "Training Acc= 0.7844827586206896\n",
      "Testing Acc= 0.7307692307692307\n"
     ]
    }
   ],
   "source": [
    "from sklearn.svm import SVC\n",
    "clf=SVC()\n",
    "clf.fit(x_train,y_train)\n",
    "y_train_pred=clf.predict(x_train)\n",
    "y_test_pred=clf.predict(x_test)\n",
    "from sklearn.metrics import accuracy_score\n",
    "train_acc=accuracy_score(y_train,y_train_pred)\n",
    "test_acc=accuracy_score(y_test,y_test_pred)\n",
    "print('Training Acc=',train_acc)\n",
    "print('Testing Acc=',test_acc)"
   ]
  },
  {
   "cell_type": "code",
   "execution_count": 13,
   "metadata": {},
   "outputs": [
    {
     "name": "stdout",
     "output_type": "stream",
     "text": [
      "Training Acc= 0.7931034482758621\n",
      "Testing Acc= 0.7051282051282052\n"
     ]
    },
    {
     "name": "stderr",
     "output_type": "stream",
     "text": [
      "<ipython-input-13-57105c2c3f92>:3: DataConversionWarning: A column-vector y was passed when a 1d array was expected. Please change the shape of y to (n_samples, ), for example using ravel().\n",
      "  clf.fit(x_train,y_train)\n"
     ]
    }
   ],
   "source": [
    "from sklearn.neighbors import KNeighborsClassifier\n",
    "clf=KNeighborsClassifier()\n",
    "clf.fit(x_train,y_train)\n",
    "y_train_pred=clf.predict(x_train)\n",
    "y_test_pred=clf.predict(x_test)\n",
    "from sklearn.metrics import accuracy_score\n",
    "train_acc=accuracy_score(y_train,y_train_pred)\n",
    "test_acc=accuracy_score(y_test,y_test_pred)\n",
    "print('Training Acc=',train_acc)\n",
    "print('Testing Acc=',test_acc)"
   ]
  },
  {
   "cell_type": "code",
   "execution_count": 14,
   "metadata": {},
   "outputs": [
    {
     "name": "stdout",
     "output_type": "stream",
     "text": [
      "Training Acc= 0.7672413793103449\n",
      "Testing Acc= 0.6666666666666666\n"
     ]
    },
    {
     "name": "stderr",
     "output_type": "stream",
     "text": [
      "C:\\Users\\HP\\anaconda3\\lib\\site-packages\\sklearn\\utils\\validation.py:72: DataConversionWarning: A column-vector y was passed when a 1d array was expected. Please change the shape of y to (n_samples, ), for example using ravel().\n",
      "  return f(**kwargs)\n"
     ]
    }
   ],
   "source": [
    "from sklearn.naive_bayes import GaussianNB\n",
    "clf= GaussianNB()\n",
    "clf.fit(x_train,y_train)\n",
    "y_train_pred=clf.predict(x_train)\n",
    "y_test_pred=clf.predict(x_test)\n",
    "from sklearn.metrics import accuracy_score\n",
    "train_acc=accuracy_score(y_train,y_train_pred)\n",
    "test_acc=accuracy_score(y_test,y_test_pred)\n",
    "print('Training Acc=',train_acc)\n",
    "print('Testing Acc=',test_acc)"
   ]
  },
  {
   "cell_type": "code",
   "execution_count": 15,
   "metadata": {},
   "outputs": [
    {
     "name": "stdout",
     "output_type": "stream",
     "text": [
      "Training Acc= 1.0\n",
      "Testing Acc= 0.6666666666666666\n"
     ]
    }
   ],
   "source": [
    "from sklearn.tree import DecisionTreeClassifier\n",
    "clf= DecisionTreeClassifier()\n",
    "clf.fit(x_train,y_train)\n",
    "y_train_pred=clf.predict(x_train)\n",
    "y_test_pred=clf.predict(x_test)\n",
    "from sklearn.metrics import accuracy_score\n",
    "train_acc=accuracy_score(y_train,y_train_pred)\n",
    "test_acc=accuracy_score(y_test,y_test_pred)\n",
    "print('Training Acc=',train_acc)\n",
    "print('Testing Acc=',test_acc)"
   ]
  },
  {
   "cell_type": "code",
   "execution_count": 16,
   "metadata": {},
   "outputs": [
    {
     "name": "stderr",
     "output_type": "stream",
     "text": [
      "<ipython-input-16-8ba343966504>:3: DataConversionWarning: A column-vector y was passed when a 1d array was expected. Please change the shape of y to (n_samples,), for example using ravel().\n",
      "  clf.fit(x_train,y_train)\n"
     ]
    },
    {
     "name": "stdout",
     "output_type": "stream",
     "text": [
      "Training Acc= 1.0\n",
      "Testing Acc= 0.7051282051282052\n"
     ]
    }
   ],
   "source": [
    "from sklearn.ensemble import RandomForestClassifier\n",
    "clf= RandomForestClassifier()\n",
    "clf.fit(x_train,y_train)\n",
    "y_train_pred=clf.predict(x_train)\n",
    "y_test_pred=clf.predict(x_test)\n",
    "from sklearn.metrics import accuracy_score\n",
    "train_acc=accuracy_score(y_train,y_train_pred)\n",
    "test_acc=accuracy_score(y_test,y_test_pred)\n",
    "print('Training Acc=',train_acc)\n",
    "print('Testing Acc=',test_acc)"
   ]
  },
  {
   "cell_type": "code",
   "execution_count": 17,
   "metadata": {},
   "outputs": [
    {
     "name": "stdout",
     "output_type": "stream",
     "text": [
      "Training Acc= 0.9827586206896551\n",
      "Testing Acc= 0.7307692307692307\n"
     ]
    },
    {
     "name": "stderr",
     "output_type": "stream",
     "text": [
      "C:\\Users\\HP\\anaconda3\\lib\\site-packages\\sklearn\\utils\\validation.py:72: DataConversionWarning: A column-vector y was passed when a 1d array was expected. Please change the shape of y to (n_samples, ), for example using ravel().\n",
      "  return f(**kwargs)\n"
     ]
    }
   ],
   "source": [
    "from sklearn.ensemble import BaggingClassifier\n",
    "clf= BaggingClassifier()\n",
    "clf.fit(x_train,y_train)\n",
    "y_train_pred=clf.predict(x_train)\n",
    "y_test_pred=clf.predict(x_test)\n",
    "from sklearn.metrics import accuracy_score\n",
    "train_acc=accuracy_score(y_train,y_train_pred)\n",
    "test_acc=accuracy_score(y_test,y_test_pred)\n",
    "print('Training Acc=',train_acc)\n",
    "print('Testing Acc=',test_acc)"
   ]
  },
  {
   "cell_type": "code",
   "execution_count": 18,
   "metadata": {},
   "outputs": [
    {
     "name": "stderr",
     "output_type": "stream",
     "text": [
      "<ipython-input-18-fe3a7a521dac>:3: DataConversionWarning: A column-vector y was passed when a 1d array was expected. Please change the shape of y to (n_samples,), for example using ravel().\n",
      "  clf.fit(x_train,y_train)\n"
     ]
    },
    {
     "name": "stdout",
     "output_type": "stream",
     "text": [
      "Training Acc= 1.0\n",
      "Testing Acc= 0.7051282051282052\n"
     ]
    }
   ],
   "source": [
    "from sklearn.ensemble import ExtraTreesClassifier\n",
    "clf= ExtraTreesClassifier()\n",
    "clf.fit(x_train,y_train)\n",
    "y_train_pred=clf.predict(x_train)\n",
    "y_test_pred=clf.predict(x_test)\n",
    "from sklearn.metrics import accuracy_score\n",
    "train_acc=accuracy_score(y_train,y_train_pred)\n",
    "test_acc=accuracy_score(y_test,y_test_pred)\n",
    "print('Training Acc=',train_acc)\n",
    "print('Testing Acc=',test_acc)"
   ]
  },
  {
   "cell_type": "code",
   "execution_count": 19,
   "metadata": {},
   "outputs": [
    {
     "name": "stderr",
     "output_type": "stream",
     "text": [
      "C:\\Users\\HP\\anaconda3\\lib\\site-packages\\sklearn\\utils\\validation.py:72: DataConversionWarning: A column-vector y was passed when a 1d array was expected. Please change the shape of y to (n_samples, ), for example using ravel().\n",
      "  return f(**kwargs)\n"
     ]
    },
    {
     "name": "stdout",
     "output_type": "stream",
     "text": [
      "Training Acc= 1.0\n",
      "Testing Acc= 0.7307692307692307\n"
     ]
    }
   ],
   "source": [
    "from sklearn.ensemble import AdaBoostClassifier \n",
    "clf= AdaBoostClassifier()\n",
    "clf.fit(x_train,y_train)\n",
    "y_train_pred=clf.predict(x_train)\n",
    "y_test_pred=clf.predict(x_test)\n",
    "from sklearn.metrics import accuracy_score\n",
    "train_acc=accuracy_score(y_train,y_train_pred)\n",
    "test_acc=accuracy_score(y_test,y_test_pred)\n",
    "print('Training Acc=',train_acc)\n",
    "print('Testing Acc=',test_acc)"
   ]
  },
  {
   "cell_type": "code",
   "execution_count": 20,
   "metadata": {},
   "outputs": [
    {
     "name": "stderr",
     "output_type": "stream",
     "text": [
      "C:\\Users\\HP\\anaconda3\\lib\\site-packages\\sklearn\\utils\\validation.py:72: DataConversionWarning: A column-vector y was passed when a 1d array was expected. Please change the shape of y to (n_samples, ), for example using ravel().\n",
      "  return f(**kwargs)\n",
      "C:\\Users\\HP\\anaconda3\\lib\\site-packages\\sklearn\\utils\\validation.py:72: DataConversionWarning: A column-vector y was passed when a 1d array was expected. Please change the shape of y to (n_samples, ), for example using ravel().\n",
      "  return f(**kwargs)\n",
      "C:\\Users\\HP\\anaconda3\\lib\\site-packages\\sklearn\\linear_model\\_logistic.py:762: ConvergenceWarning: lbfgs failed to converge (status=1):\n",
      "STOP: TOTAL NO. of ITERATIONS REACHED LIMIT.\n",
      "\n",
      "Increase the number of iterations (max_iter) or scale the data as shown in:\n",
      "    https://scikit-learn.org/stable/modules/preprocessing.html\n",
      "Please also refer to the documentation for alternative solver options:\n",
      "    https://scikit-learn.org/stable/modules/linear_model.html#logistic-regression\n",
      "  n_iter_i = _check_optimize_result(\n",
      "C:\\Users\\HP\\anaconda3\\lib\\site-packages\\sklearn\\utils\\validation.py:72: DataConversionWarning: A column-vector y was passed when a 1d array was expected. Please change the shape of y to (n_samples, ), for example using ravel().\n",
      "  return f(**kwargs)\n",
      "<ipython-input-20-5bcc79759992>:25: DataConversionWarning: A column-vector y was passed when a 1d array was expected. Please change the shape of y to (n_samples, ), for example using ravel().\n",
      "  model.fit(x_train,y_train)\n",
      "C:\\Users\\HP\\anaconda3\\lib\\site-packages\\sklearn\\utils\\validation.py:72: DataConversionWarning: A column-vector y was passed when a 1d array was expected. Please change the shape of y to (n_samples, ), for example using ravel().\n",
      "  return f(**kwargs)\n",
      "<ipython-input-20-5bcc79759992>:25: DataConversionWarning: A column-vector y was passed when a 1d array was expected. Please change the shape of y to (n_samples,), for example using ravel().\n",
      "  model.fit(x_train,y_train)\n",
      "C:\\Users\\HP\\anaconda3\\lib\\site-packages\\sklearn\\utils\\validation.py:72: DataConversionWarning: A column-vector y was passed when a 1d array was expected. Please change the shape of y to (n_samples, ), for example using ravel().\n",
      "  return f(**kwargs)\n",
      "<ipython-input-20-5bcc79759992>:25: DataConversionWarning: A column-vector y was passed when a 1d array was expected. Please change the shape of y to (n_samples,), for example using ravel().\n",
      "  model.fit(x_train,y_train)\n",
      "C:\\Users\\HP\\anaconda3\\lib\\site-packages\\sklearn\\utils\\validation.py:72: DataConversionWarning: A column-vector y was passed when a 1d array was expected. Please change the shape of y to (n_samples, ), for example using ravel().\n",
      "  return f(**kwargs)\n",
      "C:\\Users\\HP\\anaconda3\\lib\\site-packages\\sklearn\\utils\\validation.py:72: DataConversionWarning: A column-vector y was passed when a 1d array was expected. Please change the shape of y to (n_samples, ), for example using ravel().\n",
      "  return f(**kwargs)\n",
      "C:\\Users\\HP\\anaconda3\\lib\\site-packages\\sklearn\\utils\\validation.py:72: DataConversionWarning: A column-vector y was passed when a 1d array was expected. Please change the shape of y to (n_samples, ), for example using ravel().\n",
      "  return f(**kwargs)\n"
     ]
    },
    {
     "name": "stdout",
     "output_type": "stream",
     "text": [
      "{'Per': 0.28205128205128205, 'LR': 0.782051282051282, 'SVC': 0.7307692307692307, 'KNN': 0.7051282051282052, 'GNB': 0.6666666666666666, 'DT': 0.6538461538461539, 'RT': 0.7307692307692307, 'BAG': 0.7564102564102564, 'ET': 0.7564102564102564, 'ADA': 0.7307692307692307, 'GBC': 0.7692307692307693, 'VT': 0.6410256410256411}\n",
      "Per : 0.28205128205128205\n",
      "LR : 0.782051282051282\n",
      "SVC : 0.7307692307692307\n",
      "KNN : 0.7051282051282052\n",
      "GNB : 0.6666666666666666\n",
      "DT : 0.6538461538461539\n",
      "RT : 0.7307692307692307\n",
      "BAG : 0.7564102564102564\n",
      "ET : 0.7564102564102564\n",
      "ADA : 0.7307692307692307\n",
      "GBC : 0.7692307692307693\n",
      "VT : 0.6410256410256411\n"
     ]
    }
   ],
   "source": [
    "from sklearn.linear_model import Perceptron, LogisticRegression\n",
    "from sklearn.svm import SVC\n",
    "from sklearn.neighbors import KNeighborsClassifier\n",
    "from sklearn.naive_bayes import GaussianNB\n",
    "from sklearn.tree import DecisionTreeClassifier\n",
    "from sklearn.ensemble import RandomForestClassifier,BaggingClassifier\n",
    "from sklearn.ensemble import ExtraTreesClassifier,AdaBoostClassifier\n",
    "from sklearn.ensemble import GradientBoostingClassifier,VotingClassifier\n",
    "clf1 = Perceptron()\n",
    "clf2 =LogisticRegression()\n",
    "clf3 = SVC()\n",
    "clf4= KNeighborsClassifier()\n",
    "clf5 = GaussianNB()\n",
    "clf6= DecisionTreeClassifier()\n",
    "clf7= RandomForestClassifier()\n",
    "clf8= BaggingClassifier()\n",
    "clf9= ExtraTreesClassifier()\n",
    "clf10= AdaBoostClassifier()\n",
    "clf11= GradientBoostingClassifier()\n",
    "clf12 = VotingClassifier(estimators=[('per',clf1),('dt',clf6),('ada',clf10),],voting='hard')\n",
    "clf=[clf1,clf2,clf3,clf4,clf5,clf6,clf7,clf8,clf9,clf10,clf11,clf12]\n",
    "name=['Per','LR','SVC','KNN','GNB','DT','RT','BAG','ET','ADA','GBC','VT']\n",
    "accuracy={}\n",
    "for model,model_name in zip(clf,name):\n",
    "    model.fit(x_train,y_train)\n",
    "    acc = accuracy_score(model.predict(x_test),y_test)\n",
    "    accuracy[model_name]=acc\n",
    "print(accuracy)\n",
    "for i,j in accuracy.items():\n",
    "    print(i,':',j)"
   ]
  },
  {
   "cell_type": "code",
   "execution_count": 21,
   "metadata": {},
   "outputs": [
    {
     "data": {
      "image/png": "[encoded data removed]",
      "text/plain": [
       "<Figure size 720x360 with 1 Axes>"
      ]
     },
     "metadata": {
      "needs_background": "light"
     },
     "output_type": "display_data"
    }
   ],
   "source": [
    "import matplotlib.pyplot as plt\n",
    "classifiers = []\n",
    "ac= []\n",
    "for i,j in accuracy.items():\n",
    "    classifiers.append(i)\n",
    "    ac.append(j)\n",
    "fig=plt.figure(figsize=(10,5))\n",
    "plt.bar(classifiers,ac,color=\"Black\")\n",
    "\n",
    "plt.xlabel('Model')\n",
    "plt.ylabel('Accuracy')\n",
    "plt.show()"
   ]
  },
  {
   "cell_type": "code",
   "execution_count": 22,
   "metadata": {},
   "outputs": [
    {
     "name": "stdout",
     "output_type": "stream",
     "text": [
      "[[50  7]\n",
      " [14  7]]\n"
     ]
    }
   ],
   "source": [
    "from sklearn.metrics import confusion_matrix\n",
    "cm=confusion_matrix(y_test,y_test_pred)\n",
    "print(cm)"
   ]
  },
  {
   "cell_type": "code",
   "execution_count": 23,
   "metadata": {},
   "outputs": [
    {
     "data": {
      "text/plain": [
       "<AxesSubplot:>"
      ]
     },
     "execution_count": 23,
     "metadata": {},
     "output_type": "execute_result"
    },
    {
     "data": {
      "image/png": "[encoded data removed]",
      "text/plain": [
       "<Figure size 432x288 with 1 Axes>"
      ]
     },
     "metadata": {
      "needs_background": "light"
     },
     "output_type": "display_data"
    }
   ],
   "source": [
    "import seaborn as sns\n",
    "sns.heatmap(cm,annot=True,cbar=False,)"
   ]
  },
  {
   "cell_type": "markdown",
   "metadata": {},
   "source": [
    "# Hyperparameter Tuning"
   ]
  },
  {
   "cell_type": "code",
   "execution_count": 24,
   "metadata": {},
   "outputs": [
    {
     "name": "stdout",
     "output_type": "stream",
     "text": [
      "Training Acc= 100.0\n",
      "Testing Acc= 73.07692307692307\n",
      "Cross Validation 0.7307692307692307\n"
     ]
    },
    {
     "name": "stderr",
     "output_type": "stream",
     "text": [
      "<ipython-input-24-5ab407ebbcfd>:2: DataConversionWarning: A column-vector y was passed when a 1d array was expected. Please change the shape of y to (n_samples,), for example using ravel().\n",
      "  model.fit(x_train,y_train)\n"
     ]
    }
   ],
   "source": [
    "model=RandomForestClassifier(n_estimators=25,min_samples_split=50,max_depth=7,max_features=1)\n",
    "model.fit(x_train,y_train)\n",
    "from sklearn.metrics import accuracy_score\n",
    "train_acc=accuracy_score(y_train,y_train_pred)\n",
    "test_acc=accuracy_score(y_test,y_test_pred)\n",
    "print('Training Acc=',train_acc*100)\n",
    "print('Testing Acc=',test_acc*100)\n",
    "print(\"Cross Validation\",model.score(x_test,y_test))"
   ]
  },
  {
   "cell_type": "code",
   "execution_count": null,
   "metadata": {},
   "outputs": [],
   "source": []
  }
 ],
 "metadata": {
  "kernelspec": {
   "display_name": "Python 3",
   "language": "python",
   "name": "python3"
  },
  "language_info": {
   "codemirror_mode": {
    "name": "ipython",
    "version": 3
   },
   "file_extension": ".py",
   "mimetype": "text/x-python",
   "name": "python",
   "nbconvert_exporter": "python",
   "pygments_lexer": "ipython3",
   "version": "3.8.5"
  }
 },
 "nbformat": 4,
 "nbformat_minor": 4
}
